{
  "nbformat": 4,
  "nbformat_minor": 0,
  "metadata": {
    "colab": {
      "name": "section4-project-김민호.ipynb",
      "provenance": [],
      "collapsed_sections": [],
      "machine_shape": "hm",
      "authorship_tag": "ABX9TyP+6rNQ4a0DP0iPcvD1G2aI",
      "include_colab_link": true
    },
    "kernelspec": {
      "name": "python3",
      "display_name": "Python 3"
    },
    "language_info": {
      "name": "python"
    },
    "accelerator": "GPU"
  },
  "cells": [
    {
      "cell_type": "markdown",
      "metadata": {
        "id": "view-in-github",
        "colab_type": "text"
      },
      "source": [
        "<a href=\"https://colab.research.google.com/github/Mino94/section4-project-DL/blob/main/section4_project_%EA%B9%80%EB%AF%BC%ED%98%B8.ipynb\" target=\"_parent\"><img src=\"https://colab.research.google.com/assets/colab-badge.svg\" alt=\"Open In Colab\"/></a>"
      ]
    },
    {
      "cell_type": "markdown",
      "metadata": {
        "id": "lHnczuvOF3Ut"
      },
      "source": [
        "# 화이자 백신 Twitter 감정 분류\n",
        "\n",
        "\n"
      ]
    },
    {
      "cell_type": "code",
      "metadata": {
        "id": "7iirmgeMFyfg"
      },
      "source": [
        "import os\n",
        "os.environ['KAGGLE_USERNAME'] = 'mino94' # username\n",
        "os.environ['KAGGLE_KEY'] = '' # key"
      ],
      "execution_count": 1,
      "outputs": []
    },
    {
      "cell_type": "code",
      "metadata": {
        "colab": {
          "base_uri": "https://localhost:8080/"
        },
        "id": "g1GAPBbGguHv",
        "outputId": "77425985-67a5-4a21-acd3-02d18e74fcbe"
      },
      "source": [
        "!kaggle datasets download -d gpreda/pfizer-vaccine-tweets"
      ],
      "execution_count": 2,
      "outputs": [
        {
          "output_type": "stream",
          "text": [
            "pfizer-vaccine-tweets.zip: Skipping, found more recently modified local copy (use --force to force download)\n"
          ],
          "name": "stdout"
        }
      ]
    },
    {
      "cell_type": "code",
      "metadata": {
        "id": "W9vKO_Y1g814",
        "colab": {
          "base_uri": "https://localhost:8080/"
        },
        "outputId": "b8c65f18-3f1a-41af-8f30-97590ffa793f"
      },
      "source": [
        "!unzip -q pfizer-vaccine-tweets.zip"
      ],
      "execution_count": 3,
      "outputs": [
        {
          "output_type": "stream",
          "text": [
            "replace vaccination_tweets.csv? [y]es, [n]o, [A]ll, [N]one, [r]ename: n\n"
          ],
          "name": "stdout"
        }
      ]
    },
    {
      "cell_type": "code",
      "metadata": {
        "id": "yMyFRYsejUSx"
      },
      "source": [
        "!pip install -q tensorflow-text"
      ],
      "execution_count": 4,
      "outputs": []
    },
    {
      "cell_type": "code",
      "metadata": {
        "id": "5l-rgOTBjUoi"
      },
      "source": [
        "!pip install -q tf-models-official"
      ],
      "execution_count": 5,
      "outputs": []
    },
    {
      "cell_type": "code",
      "metadata": {
        "colab": {
          "base_uri": "https://localhost:8080/"
        },
        "id": "_C9JikG3TP72",
        "outputId": "03574c70-a6d9-49c1-af14-8217b53114cc"
      },
      "source": [
        "!pwd"
      ],
      "execution_count": 6,
      "outputs": [
        {
          "output_type": "stream",
          "text": [
            "/content\n"
          ],
          "name": "stdout"
        }
      ]
    },
    {
      "cell_type": "code",
      "metadata": {
        "colab": {
          "base_uri": "https://localhost:8080/",
          "height": 530
        },
        "id": "Z9UIZjwOhDqX",
        "outputId": "5123182b-b7ea-403c-fa6c-d1aac1b8fdc0"
      },
      "source": [
        "import pandas as pd\n",
        "import numpy as np\n",
        "\n",
        "raw_df = pd.read_csv('./vaccination_tweets.csv')\n",
        "raw_df.head()"
      ],
      "execution_count": 7,
      "outputs": [
        {
          "output_type": "execute_result",
          "data": {
            "text/html": [
              "<div>\n",
              "<style scoped>\n",
              "    .dataframe tbody tr th:only-of-type {\n",
              "        vertical-align: middle;\n",
              "    }\n",
              "\n",
              "    .dataframe tbody tr th {\n",
              "        vertical-align: top;\n",
              "    }\n",
              "\n",
              "    .dataframe thead th {\n",
              "        text-align: right;\n",
              "    }\n",
              "</style>\n",
              "<table border=\"1\" class=\"dataframe\">\n",
              "  <thead>\n",
              "    <tr style=\"text-align: right;\">\n",
              "      <th></th>\n",
              "      <th>id</th>\n",
              "      <th>user_name</th>\n",
              "      <th>user_location</th>\n",
              "      <th>user_description</th>\n",
              "      <th>user_created</th>\n",
              "      <th>user_followers</th>\n",
              "      <th>user_friends</th>\n",
              "      <th>user_favourites</th>\n",
              "      <th>user_verified</th>\n",
              "      <th>date</th>\n",
              "      <th>text</th>\n",
              "      <th>hashtags</th>\n",
              "      <th>source</th>\n",
              "      <th>retweets</th>\n",
              "      <th>favorites</th>\n",
              "      <th>is_retweet</th>\n",
              "    </tr>\n",
              "  </thead>\n",
              "  <tbody>\n",
              "    <tr>\n",
              "      <th>0</th>\n",
              "      <td>1340539111971516416</td>\n",
              "      <td>Rachel Roh</td>\n",
              "      <td>La Crescenta-Montrose, CA</td>\n",
              "      <td>Aggregator of Asian American news; scanning di...</td>\n",
              "      <td>2009-04-08 17:52:46</td>\n",
              "      <td>405</td>\n",
              "      <td>1692</td>\n",
              "      <td>3247</td>\n",
              "      <td>False</td>\n",
              "      <td>2020-12-20 06:06:44</td>\n",
              "      <td>Same folks said daikon paste could treat a cyt...</td>\n",
              "      <td>['PfizerBioNTech']</td>\n",
              "      <td>Twitter for Android</td>\n",
              "      <td>0</td>\n",
              "      <td>0</td>\n",
              "      <td>False</td>\n",
              "    </tr>\n",
              "    <tr>\n",
              "      <th>1</th>\n",
              "      <td>1338158543359250433</td>\n",
              "      <td>Albert Fong</td>\n",
              "      <td>San Francisco, CA</td>\n",
              "      <td>Marketing dude, tech geek, heavy metal &amp; '80s ...</td>\n",
              "      <td>2009-09-21 15:27:30</td>\n",
              "      <td>834</td>\n",
              "      <td>666</td>\n",
              "      <td>178</td>\n",
              "      <td>False</td>\n",
              "      <td>2020-12-13 16:27:13</td>\n",
              "      <td>While the world has been on the wrong side of ...</td>\n",
              "      <td>NaN</td>\n",
              "      <td>Twitter Web App</td>\n",
              "      <td>1</td>\n",
              "      <td>1</td>\n",
              "      <td>False</td>\n",
              "    </tr>\n",
              "    <tr>\n",
              "      <th>2</th>\n",
              "      <td>1337858199140118533</td>\n",
              "      <td>eli🇱🇹🇪🇺👌</td>\n",
              "      <td>Your Bed</td>\n",
              "      <td>heil, hydra 🖐☺</td>\n",
              "      <td>2020-06-25 23:30:28</td>\n",
              "      <td>10</td>\n",
              "      <td>88</td>\n",
              "      <td>155</td>\n",
              "      <td>False</td>\n",
              "      <td>2020-12-12 20:33:45</td>\n",
              "      <td>#coronavirus #SputnikV #AstraZeneca #PfizerBio...</td>\n",
              "      <td>['coronavirus', 'SputnikV', 'AstraZeneca', 'Pf...</td>\n",
              "      <td>Twitter for Android</td>\n",
              "      <td>0</td>\n",
              "      <td>0</td>\n",
              "      <td>False</td>\n",
              "    </tr>\n",
              "    <tr>\n",
              "      <th>3</th>\n",
              "      <td>1337855739918835717</td>\n",
              "      <td>Charles Adler</td>\n",
              "      <td>Vancouver, BC - Canada</td>\n",
              "      <td>Hosting \"CharlesAdlerTonight\" Global News Radi...</td>\n",
              "      <td>2008-09-10 11:28:53</td>\n",
              "      <td>49165</td>\n",
              "      <td>3933</td>\n",
              "      <td>21853</td>\n",
              "      <td>True</td>\n",
              "      <td>2020-12-12 20:23:59</td>\n",
              "      <td>Facts are immutable, Senator, even when you're...</td>\n",
              "      <td>NaN</td>\n",
              "      <td>Twitter Web App</td>\n",
              "      <td>446</td>\n",
              "      <td>2129</td>\n",
              "      <td>False</td>\n",
              "    </tr>\n",
              "    <tr>\n",
              "      <th>4</th>\n",
              "      <td>1337854064604966912</td>\n",
              "      <td>Citizen News Channel</td>\n",
              "      <td>NaN</td>\n",
              "      <td>Citizen News Channel bringing you an alternati...</td>\n",
              "      <td>2020-04-23 17:58:42</td>\n",
              "      <td>152</td>\n",
              "      <td>580</td>\n",
              "      <td>1473</td>\n",
              "      <td>False</td>\n",
              "      <td>2020-12-12 20:17:19</td>\n",
              "      <td>Explain to me again why we need a vaccine @Bor...</td>\n",
              "      <td>['whereareallthesickpeople', 'PfizerBioNTech']</td>\n",
              "      <td>Twitter for iPhone</td>\n",
              "      <td>0</td>\n",
              "      <td>0</td>\n",
              "      <td>False</td>\n",
              "    </tr>\n",
              "  </tbody>\n",
              "</table>\n",
              "</div>"
            ],
            "text/plain": [
              "                    id             user_name  ... favorites is_retweet\n",
              "0  1340539111971516416            Rachel Roh  ...         0      False\n",
              "1  1338158543359250433           Albert Fong  ...         1      False\n",
              "2  1337858199140118533              eli🇱🇹🇪🇺👌  ...         0      False\n",
              "3  1337855739918835717         Charles Adler  ...      2129      False\n",
              "4  1337854064604966912  Citizen News Channel  ...         0      False\n",
              "\n",
              "[5 rows x 16 columns]"
            ]
          },
          "metadata": {
            "tags": []
          },
          "execution_count": 7
        }
      ]
    },
    {
      "cell_type": "code",
      "metadata": {
        "id": "1FpTg1CCl3dG"
      },
      "source": [
        "import seaborn as sns\n",
        "import matplotlib.pyplot as plt\n",
        "\n",
        "# plot 스타일과 폰트 크기를 설정합니다.\n",
        "sns.set(style='whitegrid', font_scale=1.15)\n",
        "\n",
        "# 문서별 단어의 수 분포도 그리는 함수\n",
        "def plot_text_length_dist(text_list):\n",
        "\n",
        "    # 문장이 요소인 리스트를 받아 각 문서의 단어 수를 가진 리스트를 만듭니다\n",
        "    num_words = [len(doc.split()) for doc in text_list]\n",
        "    \n",
        "    sns.displot(num_words)\n",
        "    plt.title('# of words per documents')\n",
        "    plt.xlabel('Number of words')\n",
        "    plt.ylabel('Number of documents')\n",
        "    plt.show()"
      ],
      "execution_count": 8,
      "outputs": []
    },
    {
      "cell_type": "code",
      "metadata": {
        "colab": {
          "base_uri": "https://localhost:8080/",
          "height": 396
        },
        "id": "9ZLxURRPl5hP",
        "outputId": "8b80e1b2-58b4-45bc-b68e-99ca1e303043"
      },
      "source": [
        "plot_text_length_dist(raw_df['text'])"
      ],
      "execution_count": 9,
      "outputs": [
        {
          "output_type": "display_data",
          "data": {
            "image/png": "[encoded data removed]",
            "text/plain": [
              "<Figure size 360x360 with 1 Axes>"
            ]
          },
          "metadata": {
            "tags": []
          }
        }
      ]
    },
    {
      "cell_type": "code",
      "metadata": {
        "id": "DAIz-fMVrZDN"
      },
      "source": [
        "# Tokenizer\n",
        "import spacy\n",
        "from spacy.tokenizer import Tokenizer\n",
        "\n",
        "nlp = spacy.load(\"en_core_web_sm\")\n",
        "\n",
        "tokenizer = Tokenizer(nlp.vocab)"
      ],
      "execution_count": 10,
      "outputs": []
    },
    {
      "cell_type": "code",
      "metadata": {
        "colab": {
          "base_uri": "https://localhost:8080/"
        },
        "id": "MqhJpKDFrlli",
        "outputId": "3fa30f70-920f-4d0c-d2ac-540712b1d6bf"
      },
      "source": [
        "import re\n",
        "import sys\n",
        "raw_df = raw_df[raw_df['text'].notna()]\n",
        "for idx, text in zip(raw_df.index, raw_df['text']):\n",
        "    text = text.lower()\n",
        "    text = re.sub(r'[^a-z0-9 ]', '', text)\n",
        "    raw_df['hashtags'][idx] = text"
      ],
      "execution_count": 11,
      "outputs": [
        {
          "output_type": "stream",
          "text": [
            "/usr/local/lib/python3.7/dist-packages/ipykernel_launcher.py:7: SettingWithCopyWarning: \n",
            "A value is trying to be set on a copy of a slice from a DataFrame\n",
            "\n",
            "See the caveats in the documentation: https://pandas.pydata.org/pandas-docs/stable/user_guide/indexing.html#returning-a-view-versus-a-copy\n",
            "  import sys\n"
          ],
          "name": "stderr"
        }
      ]
    },
    {
      "cell_type": "code",
      "metadata": {
        "colab": {
          "base_uri": "https://localhost:8080/",
          "height": 386
        },
        "id": "sdSQ84wVu0YZ",
        "outputId": "d7a40d95-5cca-4c04-d84e-58e150d55c1d"
      },
      "source": [
        "raw_df.head(2)"
      ],
      "execution_count": 12,
      "outputs": [
        {
          "output_type": "execute_result",
          "data": {
            "text/html": [
              "<div>\n",
              "<style scoped>\n",
              "    .dataframe tbody tr th:only-of-type {\n",
              "        vertical-align: middle;\n",
              "    }\n",
              "\n",
              "    .dataframe tbody tr th {\n",
              "        vertical-align: top;\n",
              "    }\n",
              "\n",
              "    .dataframe thead th {\n",
              "        text-align: right;\n",
              "    }\n",
              "</style>\n",
              "<table border=\"1\" class=\"dataframe\">\n",
              "  <thead>\n",
              "    <tr style=\"text-align: right;\">\n",
              "      <th></th>\n",
              "      <th>id</th>\n",
              "      <th>user_name</th>\n",
              "      <th>user_location</th>\n",
              "      <th>user_description</th>\n",
              "      <th>user_created</th>\n",
              "      <th>user_followers</th>\n",
              "      <th>user_friends</th>\n",
              "      <th>user_favourites</th>\n",
              "      <th>user_verified</th>\n",
              "      <th>date</th>\n",
              "      <th>text</th>\n",
              "      <th>hashtags</th>\n",
              "      <th>source</th>\n",
              "      <th>retweets</th>\n",
              "      <th>favorites</th>\n",
              "      <th>is_retweet</th>\n",
              "    </tr>\n",
              "  </thead>\n",
              "  <tbody>\n",
              "    <tr>\n",
              "      <th>0</th>\n",
              "      <td>1340539111971516416</td>\n",
              "      <td>Rachel Roh</td>\n",
              "      <td>La Crescenta-Montrose, CA</td>\n",
              "      <td>Aggregator of Asian American news; scanning di...</td>\n",
              "      <td>2009-04-08 17:52:46</td>\n",
              "      <td>405</td>\n",
              "      <td>1692</td>\n",
              "      <td>3247</td>\n",
              "      <td>False</td>\n",
              "      <td>2020-12-20 06:06:44</td>\n",
              "      <td>Same folks said daikon paste could treat a cyt...</td>\n",
              "      <td>same folks said daikon paste could treat a cyt...</td>\n",
              "      <td>Twitter for Android</td>\n",
              "      <td>0</td>\n",
              "      <td>0</td>\n",
              "      <td>False</td>\n",
              "    </tr>\n",
              "    <tr>\n",
              "      <th>1</th>\n",
              "      <td>1338158543359250433</td>\n",
              "      <td>Albert Fong</td>\n",
              "      <td>San Francisco, CA</td>\n",
              "      <td>Marketing dude, tech geek, heavy metal &amp; '80s ...</td>\n",
              "      <td>2009-09-21 15:27:30</td>\n",
              "      <td>834</td>\n",
              "      <td>666</td>\n",
              "      <td>178</td>\n",
              "      <td>False</td>\n",
              "      <td>2020-12-13 16:27:13</td>\n",
              "      <td>While the world has been on the wrong side of ...</td>\n",
              "      <td>while the world has been on the wrong side of ...</td>\n",
              "      <td>Twitter Web App</td>\n",
              "      <td>1</td>\n",
              "      <td>1</td>\n",
              "      <td>False</td>\n",
              "    </tr>\n",
              "  </tbody>\n",
              "</table>\n",
              "</div>"
            ],
            "text/plain": [
              "                    id    user_name  ... favorites is_retweet\n",
              "0  1340539111971516416   Rachel Roh  ...         0      False\n",
              "1  1338158543359250433  Albert Fong  ...         1      False\n",
              "\n",
              "[2 rows x 16 columns]"
            ]
          },
          "metadata": {
            "tags": []
          },
          "execution_count": 12
        }
      ]
    },
    {
      "cell_type": "code",
      "metadata": {
        "colab": {
          "base_uri": "https://localhost:8080/",
          "height": 204
        },
        "id": "4RuXTGVMu4nC",
        "outputId": "0c1805a0-c6a0-4247-ebc2-96f39cbe0793"
      },
      "source": [
        "df = pd.DataFrame(raw_df[['text', 'hashtags']])\n",
        "df.head()"
      ],
      "execution_count": 13,
      "outputs": [
        {
          "output_type": "execute_result",
          "data": {
            "text/html": [
              "<div>\n",
              "<style scoped>\n",
              "    .dataframe tbody tr th:only-of-type {\n",
              "        vertical-align: middle;\n",
              "    }\n",
              "\n",
              "    .dataframe tbody tr th {\n",
              "        vertical-align: top;\n",
              "    }\n",
              "\n",
              "    .dataframe thead th {\n",
              "        text-align: right;\n",
              "    }\n",
              "</style>\n",
              "<table border=\"1\" class=\"dataframe\">\n",
              "  <thead>\n",
              "    <tr style=\"text-align: right;\">\n",
              "      <th></th>\n",
              "      <th>text</th>\n",
              "      <th>hashtags</th>\n",
              "    </tr>\n",
              "  </thead>\n",
              "  <tbody>\n",
              "    <tr>\n",
              "      <th>0</th>\n",
              "      <td>Same folks said daikon paste could treat a cyt...</td>\n",
              "      <td>same folks said daikon paste could treat a cyt...</td>\n",
              "    </tr>\n",
              "    <tr>\n",
              "      <th>1</th>\n",
              "      <td>While the world has been on the wrong side of ...</td>\n",
              "      <td>while the world has been on the wrong side of ...</td>\n",
              "    </tr>\n",
              "    <tr>\n",
              "      <th>2</th>\n",
              "      <td>#coronavirus #SputnikV #AstraZeneca #PfizerBio...</td>\n",
              "      <td>coronavirus sputnikv astrazeneca pfizerbiontec...</td>\n",
              "    </tr>\n",
              "    <tr>\n",
              "      <th>3</th>\n",
              "      <td>Facts are immutable, Senator, even when you're...</td>\n",
              "      <td>facts are immutable senator even when youre no...</td>\n",
              "    </tr>\n",
              "    <tr>\n",
              "      <th>4</th>\n",
              "      <td>Explain to me again why we need a vaccine @Bor...</td>\n",
              "      <td>explain to me again why we need a vaccine bori...</td>\n",
              "    </tr>\n",
              "  </tbody>\n",
              "</table>\n",
              "</div>"
            ],
            "text/plain": [
              "                                                text                                           hashtags\n",
              "0  Same folks said daikon paste could treat a cyt...  same folks said daikon paste could treat a cyt...\n",
              "1  While the world has been on the wrong side of ...  while the world has been on the wrong side of ...\n",
              "2  #coronavirus #SputnikV #AstraZeneca #PfizerBio...  coronavirus sputnikv astrazeneca pfizerbiontec...\n",
              "3  Facts are immutable, Senator, even when you're...  facts are immutable senator even when youre no...\n",
              "4  Explain to me again why we need a vaccine @Bor...  explain to me again why we need a vaccine bori..."
            ]
          },
          "metadata": {
            "tags": []
          },
          "execution_count": 13
        }
      ]
    },
    {
      "cell_type": "markdown",
      "metadata": {
        "id": "wT9mL749xojL"
      },
      "source": [
        "### 불용어제거"
      ]
    },
    {
      "cell_type": "code",
      "metadata": {
        "id": "SOMQ8WHenbtL"
      },
      "source": [
        "STOP_WORDS = nlp.Defaults.stop_words.union(['\\n\\n', '\\n', 'dose'])"
      ],
      "execution_count": 14,
      "outputs": []
    },
    {
      "cell_type": "code",
      "metadata": {
        "id": "8nsUwK5hw0Df"
      },
      "source": [
        "tokens = []\n",
        "\n",
        "for doc in tokenizer.pipe(df['text']):\n",
        "    \n",
        "    doc_tokens = []\n",
        "    \n",
        "    for token in doc: \n",
        "        if token.text.lower() not in STOP_WORDS and token.text != ' ':\n",
        "            doc_tokens.append(token.text.lower())\n",
        "   \n",
        "    tokens.append(doc_tokens)\n",
        "    \n",
        "df['tokens'] = tokens"
      ],
      "execution_count": 15,
      "outputs": []
    },
    {
      "cell_type": "code",
      "metadata": {
        "colab": {
          "base_uri": "https://localhost:8080/",
          "height": 289
        },
        "id": "yNx3Aiv_xl_v",
        "outputId": "2c056661-39d8-4ead-85be-62ab2a5c67ef"
      },
      "source": [
        "# df = df.drop('stoptokens', axis=1)\n",
        "df.head()"
      ],
      "execution_count": 16,
      "outputs": [
        {
          "output_type": "execute_result",
          "data": {
            "text/html": [
              "<div>\n",
              "<style scoped>\n",
              "    .dataframe tbody tr th:only-of-type {\n",
              "        vertical-align: middle;\n",
              "    }\n",
              "\n",
              "    .dataframe tbody tr th {\n",
              "        vertical-align: top;\n",
              "    }\n",
              "\n",
              "    .dataframe thead th {\n",
              "        text-align: right;\n",
              "    }\n",
              "</style>\n",
              "<table border=\"1\" class=\"dataframe\">\n",
              "  <thead>\n",
              "    <tr style=\"text-align: right;\">\n",
              "      <th></th>\n",
              "      <th>text</th>\n",
              "      <th>hashtags</th>\n",
              "      <th>tokens</th>\n",
              "    </tr>\n",
              "  </thead>\n",
              "  <tbody>\n",
              "    <tr>\n",
              "      <th>0</th>\n",
              "      <td>Same folks said daikon paste could treat a cyt...</td>\n",
              "      <td>same folks said daikon paste could treat a cyt...</td>\n",
              "      <td>[folks, said, daikon, paste, treat, cytokine, ...</td>\n",
              "    </tr>\n",
              "    <tr>\n",
              "      <th>1</th>\n",
              "      <td>While the world has been on the wrong side of ...</td>\n",
              "      <td>while the world has been on the wrong side of ...</td>\n",
              "      <td>[world, wrong, history, year,, hopefully,, big...</td>\n",
              "    </tr>\n",
              "    <tr>\n",
              "      <th>2</th>\n",
              "      <td>#coronavirus #SputnikV #AstraZeneca #PfizerBio...</td>\n",
              "      <td>coronavirus sputnikv astrazeneca pfizerbiontec...</td>\n",
              "      <td>[#coronavirus, #sputnikv, #astrazeneca, #pfize...</td>\n",
              "    </tr>\n",
              "    <tr>\n",
              "      <th>3</th>\n",
              "      <td>Facts are immutable, Senator, even when you're...</td>\n",
              "      <td>facts are immutable senator even when youre no...</td>\n",
              "      <td>[facts, immutable,, senator,, you're, ethicall...</td>\n",
              "    </tr>\n",
              "    <tr>\n",
              "      <th>4</th>\n",
              "      <td>Explain to me again why we need a vaccine @Bor...</td>\n",
              "      <td>explain to me again why we need a vaccine bori...</td>\n",
              "      <td>[explain, need, vaccine, @borisjohnson, @matth...</td>\n",
              "    </tr>\n",
              "  </tbody>\n",
              "</table>\n",
              "</div>"
            ],
            "text/plain": [
              "                                                text  ...                                             tokens\n",
              "0  Same folks said daikon paste could treat a cyt...  ...  [folks, said, daikon, paste, treat, cytokine, ...\n",
              "1  While the world has been on the wrong side of ...  ...  [world, wrong, history, year,, hopefully,, big...\n",
              "2  #coronavirus #SputnikV #AstraZeneca #PfizerBio...  ...  [#coronavirus, #sputnikv, #astrazeneca, #pfize...\n",
              "3  Facts are immutable, Senator, even when you're...  ...  [facts, immutable,, senator,, you're, ethicall...\n",
              "4  Explain to me again why we need a vaccine @Bor...  ...  [explain, need, vaccine, @borisjohnson, @matth...\n",
              "\n",
              "[5 rows x 3 columns]"
            ]
          },
          "metadata": {
            "tags": []
          },
          "execution_count": 16
        }
      ]
    },
    {
      "cell_type": "code",
      "metadata": {
        "colab": {
          "base_uri": "https://localhost:8080/"
        },
        "id": "HmonLF_l0dIi",
        "outputId": "fea08a87-2185-4497-ac89-7455244125c2"
      },
      "source": [
        "!pip install squarify"
      ],
      "execution_count": 17,
      "outputs": [
        {
          "output_type": "stream",
          "text": [
            "Requirement already satisfied: squarify in /usr/local/lib/python3.7/dist-packages (0.4.3)\n"
          ],
          "name": "stdout"
        }
      ]
    },
    {
      "cell_type": "code",
      "metadata": {
        "id": "RqnMKpC00dxY"
      },
      "source": [
        "# Top 10 token\n",
        "from collections import Counter\n",
        "\n",
        "def word_count(docs):\n",
        "    \"\"\" 토큰화된 문서들을 입력받아 토큰을 카운트 하고 관련된 속성을 가진 데이터프레임을 리턴합니다.\n",
        "    Args:\n",
        "        docs (series or list): 토큰화된 문서가 들어있는 list\n",
        "    Returns:\n",
        "        list: Dataframe\n",
        "    \"\"\"\n",
        "    # 전체 코퍼스에서 단어 빈도 카운트\n",
        "    word_counts = Counter()\n",
        "\n",
        "    # 단어가 존재하는 문서의 빈도 카운트, 단어가 한 번 이상 존재하면 +1\n",
        "    word_in_docs = Counter()\n",
        "\n",
        "    # 전체 문서의 갯수\n",
        "    total_docs = len(docs)\n",
        "\n",
        "    for doc in docs:\n",
        "        word_counts.update(doc)\n",
        "        word_in_docs.update(set(doc))\n",
        "\n",
        "    temp = zip(word_counts.keys(), word_counts.values())\n",
        "\n",
        "    wc = pd.DataFrame(temp, columns = ['word', 'count'])\n",
        "\n",
        "    # 단어의 순위\n",
        "    # method='first': 같은 값의 경우 먼저나온 요소를 우선\n",
        "    wc['rank'] = wc['count'].rank(method='first', ascending=False)\n",
        "    total = wc['count'].sum()\n",
        "\n",
        "    # 코퍼스 내 단어의 비율\n",
        "    wc['percent'] = wc['count'].apply(lambda x: x / total)\n",
        "\n",
        "    wc = wc.sort_values(by='rank')\n",
        "\n",
        "    # 누적 비율\n",
        "    # cumsum() : cumulative sum\n",
        "    wc['cul_percent'] = wc['percent'].cumsum()\n",
        "\n",
        "    temp2 = zip(word_in_docs.keys(), word_in_docs.values())\n",
        "    ac = pd.DataFrame(temp2, columns=['word', 'word_in_docs'])\n",
        "    wc = ac.merge(wc, on='word')\n",
        "    \n",
        "    # 전체 문서 중 존재하는 비율\n",
        "    wc['word_in_docs_percent'] = wc['word_in_docs'].apply(lambda x: x / total_docs)\n",
        "\n",
        "    return wc.sort_values(by='rank')"
      ],
      "execution_count": 18,
      "outputs": []
    },
    {
      "cell_type": "code",
      "metadata": {
        "colab": {
          "base_uri": "https://localhost:8080/",
          "height": 359
        },
        "id": "2w__wKSk0fY4",
        "outputId": "83acf642-651b-4a8c-f6aa-b7bd100506cd"
      },
      "source": [
        "wc = word_count(df['tokens'])\n",
        "wc.head(10)"
      ],
      "execution_count": 19,
      "outputs": [
        {
          "output_type": "execute_result",
          "data": {
            "text/html": [
              "<div>\n",
              "<style scoped>\n",
              "    .dataframe tbody tr th:only-of-type {\n",
              "        vertical-align: middle;\n",
              "    }\n",
              "\n",
              "    .dataframe tbody tr th {\n",
              "        vertical-align: top;\n",
              "    }\n",
              "\n",
              "    .dataframe thead th {\n",
              "        text-align: right;\n",
              "    }\n",
              "</style>\n",
              "<table border=\"1\" class=\"dataframe\">\n",
              "  <thead>\n",
              "    <tr style=\"text-align: right;\">\n",
              "      <th></th>\n",
              "      <th>word</th>\n",
              "      <th>word_in_docs</th>\n",
              "      <th>count</th>\n",
              "      <th>rank</th>\n",
              "      <th>percent</th>\n",
              "      <th>cul_percent</th>\n",
              "      <th>word_in_docs_percent</th>\n",
              "    </tr>\n",
              "  </thead>\n",
              "  <tbody>\n",
              "    <tr>\n",
              "      <th>2</th>\n",
              "      <td>#pfizerbiontech</td>\n",
              "      <td>3912</td>\n",
              "      <td>3915</td>\n",
              "      <td>1.0</td>\n",
              "      <td>0.044601</td>\n",
              "      <td>0.044601</td>\n",
              "      <td>0.484039</td>\n",
              "    </tr>\n",
              "    <tr>\n",
              "      <th>20</th>\n",
              "      <td>vaccine</td>\n",
              "      <td>1992</td>\n",
              "      <td>2034</td>\n",
              "      <td>2.0</td>\n",
              "      <td>0.023172</td>\n",
              "      <td>0.067772</td>\n",
              "      <td>0.246474</td>\n",
              "    </tr>\n",
              "    <tr>\n",
              "      <th>84</th>\n",
              "      <td>#covid19</td>\n",
              "      <td>969</td>\n",
              "      <td>970</td>\n",
              "      <td>3.0</td>\n",
              "      <td>0.011050</td>\n",
              "      <td>0.078823</td>\n",
              "      <td>0.119896</td>\n",
              "    </tr>\n",
              "    <tr>\n",
              "      <th>106</th>\n",
              "      <td>#vaccine</td>\n",
              "      <td>668</td>\n",
              "      <td>668</td>\n",
              "      <td>4.0</td>\n",
              "      <td>0.007610</td>\n",
              "      <td>0.086433</td>\n",
              "      <td>0.082653</td>\n",
              "    </tr>\n",
              "    <tr>\n",
              "      <th>263</th>\n",
              "      <td>covid-19</td>\n",
              "      <td>539</td>\n",
              "      <td>543</td>\n",
              "      <td>5.0</td>\n",
              "      <td>0.006186</td>\n",
              "      <td>0.092619</td>\n",
              "      <td>0.066691</td>\n",
              "    </tr>\n",
              "    <tr>\n",
              "      <th>80</th>\n",
              "      <td>#covidvaccine</td>\n",
              "      <td>533</td>\n",
              "      <td>533</td>\n",
              "      <td>6.0</td>\n",
              "      <td>0.006072</td>\n",
              "      <td>0.098691</td>\n",
              "      <td>0.065949</td>\n",
              "    </tr>\n",
              "    <tr>\n",
              "      <th>2172</th>\n",
              "      <td>got</td>\n",
              "      <td>511</td>\n",
              "      <td>528</td>\n",
              "      <td>7.0</td>\n",
              "      <td>0.006015</td>\n",
              "      <td>0.104706</td>\n",
              "      <td>0.063227</td>\n",
              "    </tr>\n",
              "    <tr>\n",
              "      <th>3128</th>\n",
              "      <td>second</td>\n",
              "      <td>411</td>\n",
              "      <td>414</td>\n",
              "      <td>8.0</td>\n",
              "      <td>0.004716</td>\n",
              "      <td>0.109423</td>\n",
              "      <td>0.050854</td>\n",
              "    </tr>\n",
              "    <tr>\n",
              "      <th>54</th>\n",
              "      <td>covid</td>\n",
              "      <td>400</td>\n",
              "      <td>405</td>\n",
              "      <td>9.0</td>\n",
              "      <td>0.004614</td>\n",
              "      <td>0.114036</td>\n",
              "      <td>0.049493</td>\n",
              "    </tr>\n",
              "    <tr>\n",
              "      <th>723</th>\n",
              "      <td>pfizer</td>\n",
              "      <td>394</td>\n",
              "      <td>398</td>\n",
              "      <td>10.0</td>\n",
              "      <td>0.004534</td>\n",
              "      <td>0.118571</td>\n",
              "      <td>0.048750</td>\n",
              "    </tr>\n",
              "  </tbody>\n",
              "</table>\n",
              "</div>"
            ],
            "text/plain": [
              "                 word  word_in_docs  ...  cul_percent  word_in_docs_percent\n",
              "2     #pfizerbiontech          3912  ...     0.044601              0.484039\n",
              "20            vaccine          1992  ...     0.067772              0.246474\n",
              "84           #covid19           969  ...     0.078823              0.119896\n",
              "106          #vaccine           668  ...     0.086433              0.082653\n",
              "263          covid-19           539  ...     0.092619              0.066691\n",
              "80      #covidvaccine           533  ...     0.098691              0.065949\n",
              "2172              got           511  ...     0.104706              0.063227\n",
              "3128           second           411  ...     0.109423              0.050854\n",
              "54              covid           400  ...     0.114036              0.049493\n",
              "723            pfizer           394  ...     0.118571              0.048750\n",
              "\n",
              "[10 rows x 7 columns]"
            ]
          },
          "metadata": {
            "tags": []
          },
          "execution_count": 19
        }
      ]
    },
    {
      "cell_type": "code",
      "metadata": {
        "colab": {
          "base_uri": "https://localhost:8080/",
          "height": 289
        },
        "id": "9AAg8Ldp0kJM",
        "outputId": "625d13a2-6728-4a20-f09e-e6bf3d13c55c"
      },
      "source": [
        "import seaborn as sns\n",
        "\n",
        "sns.lineplot(x='rank', y='cul_percent', data=wc);"
      ],
      "execution_count": 20,
      "outputs": [
        {
          "output_type": "display_data",
          "data": {
            "image/png": "[encoded data removed]",
            "text/plain": [
              "<Figure size 432x288 with 1 Axes>"
            ]
          },
          "metadata": {
            "tags": []
          }
        }
      ]
    },
    {
      "cell_type": "code",
      "metadata": {
        "colab": {
          "base_uri": "https://localhost:8080/",
          "height": 248
        },
        "id": "3FaPgCiD0okS",
        "outputId": "6d1862e7-90aa-4a89-f684-3976e49f03c7"
      },
      "source": [
        "import squarify\n",
        "import matplotlib.pyplot as plt\n",
        "wc_top10 = wc[wc['rank'] <= 10]\n",
        "\n",
        "squarify.plot(sizes=wc_top10['percent'], label=wc_top10['word'], alpha=0.6 )\n",
        "plt.axis('off')\n",
        "plt.show()"
      ],
      "execution_count": 21,
      "outputs": [
        {
          "output_type": "display_data",
          "data": {
            "image/png": "[encoded data removed]",
            "text/plain": [
              "<Figure size 432x288 with 1 Axes>"
            ]
          },
          "metadata": {
            "tags": []
          }
        }
      ]
    },
    {
      "cell_type": "markdown",
      "metadata": {
        "id": "eQr-YouB19ir"
      },
      "source": [
        "# BERT Model"
      ]
    },
    {
      "cell_type": "code",
      "metadata": {
        "id": "yiG3oajOylRw",
        "colab": {
          "base_uri": "https://localhost:8080/"
        },
        "outputId": "b3b96f69-e6d7-4ac5-aade-1f005457652e"
      },
      "source": [
        "!pip install transformers"
      ],
      "execution_count": 22,
      "outputs": [
        {
          "output_type": "stream",
          "text": [
            "Requirement already satisfied: transformers in /usr/local/lib/python3.7/dist-packages (4.5.1)\n",
            "Requirement already satisfied: importlib-metadata; python_version < \"3.8\" in /usr/local/lib/python3.7/dist-packages (from transformers) (3.10.1)\n",
            "Requirement already satisfied: regex!=2019.12.17 in /usr/local/lib/python3.7/dist-packages (from transformers) (2019.12.20)\n",
            "Requirement already satisfied: packaging in /usr/local/lib/python3.7/dist-packages (from transformers) (20.9)\n",
            "Requirement already satisfied: filelock in /usr/local/lib/python3.7/dist-packages (from transformers) (3.0.12)\n",
            "Requirement already satisfied: tqdm>=4.27 in /usr/local/lib/python3.7/dist-packages (from transformers) (4.41.1)\n",
            "Requirement already satisfied: numpy>=1.17 in /usr/local/lib/python3.7/dist-packages (from transformers) (1.19.5)\n",
            "Requirement already satisfied: requests in /usr/local/lib/python3.7/dist-packages (from transformers) (2.23.0)\n",
            "Requirement already satisfied: tokenizers<0.11,>=0.10.1 in /usr/local/lib/python3.7/dist-packages (from transformers) (0.10.2)\n",
            "Requirement already satisfied: sacremoses in /usr/local/lib/python3.7/dist-packages (from transformers) (0.0.45)\n",
            "Requirement already satisfied: zipp>=0.5 in /usr/local/lib/python3.7/dist-packages (from importlib-metadata; python_version < \"3.8\"->transformers) (3.4.1)\n",
            "Requirement already satisfied: typing-extensions>=3.6.4; python_version < \"3.8\" in /usr/local/lib/python3.7/dist-packages (from importlib-metadata; python_version < \"3.8\"->transformers) (3.7.4.3)\n",
            "Requirement already satisfied: pyparsing>=2.0.2 in /usr/local/lib/python3.7/dist-packages (from packaging->transformers) (2.4.7)\n",
            "Requirement already satisfied: certifi>=2017.4.17 in /usr/local/lib/python3.7/dist-packages (from requests->transformers) (2020.12.5)\n",
            "Requirement already satisfied: urllib3!=1.25.0,!=1.25.1,<1.26,>=1.21.1 in /usr/local/lib/python3.7/dist-packages (from requests->transformers) (1.24.3)\n",
            "Requirement already satisfied: idna<3,>=2.5 in /usr/local/lib/python3.7/dist-packages (from requests->transformers) (2.10)\n",
            "Requirement already satisfied: chardet<4,>=3.0.2 in /usr/local/lib/python3.7/dist-packages (from requests->transformers) (3.0.4)\n",
            "Requirement already satisfied: joblib in /usr/local/lib/python3.7/dist-packages (from sacremoses->transformers) (1.0.1)\n",
            "Requirement already satisfied: six in /usr/local/lib/python3.7/dist-packages (from sacremoses->transformers) (1.15.0)\n",
            "Requirement already satisfied: click in /usr/local/lib/python3.7/dist-packages (from sacremoses->transformers) (7.1.2)\n"
          ],
          "name": "stdout"
        }
      ]
    },
    {
      "cell_type": "markdown",
      "metadata": {
        "id": "55hYM639MJVz"
      },
      "source": [
        "## Data 적용"
      ]
    },
    {
      "cell_type": "code",
      "metadata": {
        "id": "iKatOWgIiUsl"
      },
      "source": [
        "import os\n",
        "import shutil\n",
        "\n",
        "import tensorflow as tf\n",
        "import tensorflow_hub as hub\n",
        "import tensorflow_text as text\n",
        "from official.nlp import optimization  # to create AdamW optmizer\n",
        "\n",
        "import matplotlib.pyplot as plt\n",
        "\n",
        "tf.get_logger().setLevel('ERROR')"
      ],
      "execution_count": 23,
      "outputs": []
    },
    {
      "cell_type": "code",
      "metadata": {
        "id": "5PIH0A3WN6cC"
      },
      "source": [
        "df.columns = ['raw_text', 'text', 'tokens']"
      ],
      "execution_count": 24,
      "outputs": []
    },
    {
      "cell_type": "markdown",
      "metadata": {
        "id": "l29dqY8R3nRJ"
      },
      "source": [
        "# Define model"
      ]
    },
    {
      "cell_type": "code",
      "metadata": {
        "id": "3SI9PkSUiGva"
      },
      "source": [
        "# A dependency of the preprocessing for BERT inputs\n",
        "!pip install -q tensorflow-text"
      ],
      "execution_count": 26,
      "outputs": []
    },
    {
      "cell_type": "code",
      "metadata": {
        "id": "IYf5H9mPg-hp"
      },
      "source": [
        "import tensorflow as tf\n",
        "import tensorflow_hub as hub\n",
        "import tensorflow_text as text\n",
        "import warnings\n",
        "\n",
        "warnings.filterwarnings(action='ignore') "
      ],
      "execution_count": 27,
      "outputs": []
    },
    {
      "cell_type": "code",
      "metadata": {
        "cellView": "form",
        "id": "y8_ctG55-uTX",
        "colab": {
          "base_uri": "https://localhost:8080/"
        },
        "outputId": "a85bf1b8-c69e-4d33-aa9e-75e0912961d5"
      },
      "source": [
        "#@title Choose a BERT model to fine-tune\n",
        "\n",
        "bert_model_name = 'small_bert/bert_en_uncased_L-4_H-512_A-8'  #@param [\"bert_en_uncased_L-12_H-768_A-12\", \"bert_en_cased_L-12_H-768_A-12\", \"bert_multi_cased_L-12_H-768_A-12\", \"small_bert/bert_en_uncased_L-2_H-128_A-2\", \"small_bert/bert_en_uncased_L-2_H-256_A-4\", \"small_bert/bert_en_uncased_L-2_H-512_A-8\", \"small_bert/bert_en_uncased_L-2_H-768_A-12\", \"small_bert/bert_en_uncased_L-4_H-128_A-2\", \"small_bert/bert_en_uncased_L-4_H-256_A-4\", \"small_bert/bert_en_uncased_L-4_H-512_A-8\", \"small_bert/bert_en_uncased_L-4_H-768_A-12\", \"small_bert/bert_en_uncased_L-6_H-128_A-2\", \"small_bert/bert_en_uncased_L-6_H-256_A-4\", \"small_bert/bert_en_uncased_L-6_H-512_A-8\", \"small_bert/bert_en_uncased_L-6_H-768_A-12\", \"small_bert/bert_en_uncased_L-8_H-128_A-2\", \"small_bert/bert_en_uncased_L-8_H-256_A-4\", \"small_bert/bert_en_uncased_L-8_H-512_A-8\", \"small_bert/bert_en_uncased_L-8_H-768_A-12\", \"small_bert/bert_en_uncased_L-10_H-128_A-2\", \"small_bert/bert_en_uncased_L-10_H-256_A-4\", \"small_bert/bert_en_uncased_L-10_H-512_A-8\", \"small_bert/bert_en_uncased_L-10_H-768_A-12\", \"small_bert/bert_en_uncased_L-12_H-128_A-2\", \"small_bert/bert_en_uncased_L-12_H-256_A-4\", \"small_bert/bert_en_uncased_L-12_H-512_A-8\", \"small_bert/bert_en_uncased_L-12_H-768_A-12\", \"albert_en_base\", \"electra_small\", \"electra_base\", \"experts_pubmed\", \"experts_wiki_books\", \"talking-heads_base\"]\n",
        "\n",
        "map_name_to_handle = {\n",
        "    'bert_en_uncased_L-12_H-768_A-12':\n",
        "        'https://tfhub.dev/tensorflow/bert_en_uncased_L-12_H-768_A-12/3',\n",
        "    'bert_en_cased_L-12_H-768_A-12':\n",
        "        'https://tfhub.dev/tensorflow/bert_en_cased_L-12_H-768_A-12/3',\n",
        "    'bert_multi_cased_L-12_H-768_A-12':\n",
        "        'https://tfhub.dev/tensorflow/bert_multi_cased_L-12_H-768_A-12/3',\n",
        "    'small_bert/bert_en_uncased_L-2_H-128_A-2':\n",
        "        'https://tfhub.dev/tensorflow/small_bert/bert_en_uncased_L-2_H-128_A-2/1',\n",
        "    'small_bert/bert_en_uncased_L-2_H-256_A-4':\n",
        "        'https://tfhub.dev/tensorflow/small_bert/bert_en_uncased_L-2_H-256_A-4/1',\n",
        "    'small_bert/bert_en_uncased_L-2_H-512_A-8':\n",
        "        'https://tfhub.dev/tensorflow/small_bert/bert_en_uncased_L-2_H-512_A-8/1',\n",
        "    'small_bert/bert_en_uncased_L-2_H-768_A-12':\n",
        "        'https://tfhub.dev/tensorflow/small_bert/bert_en_uncased_L-2_H-768_A-12/1',\n",
        "    'small_bert/bert_en_uncased_L-4_H-128_A-2':\n",
        "        'https://tfhub.dev/tensorflow/small_bert/bert_en_uncased_L-4_H-128_A-2/1',\n",
        "    'small_bert/bert_en_uncased_L-4_H-256_A-4':\n",
        "        'https://tfhub.dev/tensorflow/small_bert/bert_en_uncased_L-4_H-256_A-4/1',\n",
        "    'small_bert/bert_en_uncased_L-4_H-512_A-8':\n",
        "        'https://tfhub.dev/tensorflow/small_bert/bert_en_uncased_L-4_H-512_A-8/1',\n",
        "    'small_bert/bert_en_uncased_L-4_H-768_A-12':\n",
        "        'https://tfhub.dev/tensorflow/small_bert/bert_en_uncased_L-4_H-768_A-12/1',\n",
        "    'small_bert/bert_en_uncased_L-6_H-128_A-2':\n",
        "        'https://tfhub.dev/tensorflow/small_bert/bert_en_uncased_L-6_H-128_A-2/1',\n",
        "    'small_bert/bert_en_uncased_L-6_H-256_A-4':\n",
        "        'https://tfhub.dev/tensorflow/small_bert/bert_en_uncased_L-6_H-256_A-4/1',\n",
        "    'small_bert/bert_en_uncased_L-6_H-512_A-8':\n",
        "        'https://tfhub.dev/tensorflow/small_bert/bert_en_uncased_L-6_H-512_A-8/1',\n",
        "    'small_bert/bert_en_uncased_L-6_H-768_A-12':\n",
        "        'https://tfhub.dev/tensorflow/small_bert/bert_en_uncased_L-6_H-768_A-12/1',\n",
        "    'small_bert/bert_en_uncased_L-8_H-128_A-2':\n",
        "        'https://tfhub.dev/tensorflow/small_bert/bert_en_uncased_L-8_H-128_A-2/1',\n",
        "    'small_bert/bert_en_uncased_L-8_H-256_A-4':\n",
        "        'https://tfhub.dev/tensorflow/small_bert/bert_en_uncased_L-8_H-256_A-4/1',\n",
        "    'small_bert/bert_en_uncased_L-8_H-512_A-8':\n",
        "        'https://tfhub.dev/tensorflow/small_bert/bert_en_uncased_L-8_H-512_A-8/1',\n",
        "    'small_bert/bert_en_uncased_L-8_H-768_A-12':\n",
        "        'https://tfhub.dev/tensorflow/small_bert/bert_en_uncased_L-8_H-768_A-12/1',\n",
        "    'small_bert/bert_en_uncased_L-10_H-128_A-2':\n",
        "        'https://tfhub.dev/tensorflow/small_bert/bert_en_uncased_L-10_H-128_A-2/1',\n",
        "    'small_bert/bert_en_uncased_L-10_H-256_A-4':\n",
        "        'https://tfhub.dev/tensorflow/small_bert/bert_en_uncased_L-10_H-256_A-4/1',\n",
        "    'small_bert/bert_en_uncased_L-10_H-512_A-8':\n",
        "        'https://tfhub.dev/tensorflow/small_bert/bert_en_uncased_L-10_H-512_A-8/1',\n",
        "    'small_bert/bert_en_uncased_L-10_H-768_A-12':\n",
        "        'https://tfhub.dev/tensorflow/small_bert/bert_en_uncased_L-10_H-768_A-12/1',\n",
        "    'small_bert/bert_en_uncased_L-12_H-128_A-2':\n",
        "        'https://tfhub.dev/tensorflow/small_bert/bert_en_uncased_L-12_H-128_A-2/1',\n",
        "    'small_bert/bert_en_uncased_L-12_H-256_A-4':\n",
        "        'https://tfhub.dev/tensorflow/small_bert/bert_en_uncased_L-12_H-256_A-4/1',\n",
        "    'small_bert/bert_en_uncased_L-12_H-512_A-8':\n",
        "        'https://tfhub.dev/tensorflow/small_bert/bert_en_uncased_L-12_H-512_A-8/1',\n",
        "    'small_bert/bert_en_uncased_L-12_H-768_A-12':\n",
        "        'https://tfhub.dev/tensorflow/small_bert/bert_en_uncased_L-12_H-768_A-12/1',\n",
        "    'albert_en_base':\n",
        "        'https://tfhub.dev/tensorflow/albert_en_base/2',\n",
        "    'electra_small':\n",
        "        'https://tfhub.dev/google/electra_small/2',\n",
        "    'electra_base':\n",
        "        'https://tfhub.dev/google/electra_base/2',\n",
        "    'experts_pubmed':\n",
        "        'https://tfhub.dev/google/experts/bert/pubmed/2',\n",
        "    'experts_wiki_books':\n",
        "        'https://tfhub.dev/google/experts/bert/wiki_books/2',\n",
        "    'talking-heads_base':\n",
        "        'https://tfhub.dev/tensorflow/talkheads_ggelu_bert_en_base/1',\n",
        "}\n",
        "\n",
        "map_model_to_preprocess = {\n",
        "    'bert_en_uncased_L-12_H-768_A-12':\n",
        "        'https://tfhub.dev/tensorflow/bert_en_uncased_preprocess/3',\n",
        "    'bert_en_cased_L-12_H-768_A-12':\n",
        "        'https://tfhub.dev/tensorflow/bert_en_cased_preprocess/3',\n",
        "    'small_bert/bert_en_uncased_L-2_H-128_A-2':\n",
        "        'https://tfhub.dev/tensorflow/bert_en_uncased_preprocess/3',\n",
        "    'small_bert/bert_en_uncased_L-2_H-256_A-4':\n",
        "        'https://tfhub.dev/tensorflow/bert_en_uncased_preprocess/3',\n",
        "    'small_bert/bert_en_uncased_L-2_H-512_A-8':\n",
        "        'https://tfhub.dev/tensorflow/bert_en_uncased_preprocess/3',\n",
        "    'small_bert/bert_en_uncased_L-2_H-768_A-12':\n",
        "        'https://tfhub.dev/tensorflow/bert_en_uncased_preprocess/3',\n",
        "    'small_bert/bert_en_uncased_L-4_H-128_A-2':\n",
        "        'https://tfhub.dev/tensorflow/bert_en_uncased_preprocess/3',\n",
        "    'small_bert/bert_en_uncased_L-4_H-256_A-4':\n",
        "        'https://tfhub.dev/tensorflow/bert_en_uncased_preprocess/3',\n",
        "    'small_bert/bert_en_uncased_L-4_H-512_A-8':\n",
        "        'https://tfhub.dev/tensorflow/bert_en_uncased_preprocess/3',\n",
        "    'small_bert/bert_en_uncased_L-4_H-768_A-12':\n",
        "        'https://tfhub.dev/tensorflow/bert_en_uncased_preprocess/3',\n",
        "    'small_bert/bert_en_uncased_L-6_H-128_A-2':\n",
        "        'https://tfhub.dev/tensorflow/bert_en_uncased_preprocess/3',\n",
        "    'small_bert/bert_en_uncased_L-6_H-256_A-4':\n",
        "        'https://tfhub.dev/tensorflow/bert_en_uncased_preprocess/3',\n",
        "    'small_bert/bert_en_uncased_L-6_H-512_A-8':\n",
        "        'https://tfhub.dev/tensorflow/bert_en_uncased_preprocess/3',\n",
        "    'small_bert/bert_en_uncased_L-6_H-768_A-12':\n",
        "        'https://tfhub.dev/tensorflow/bert_en_uncased_preprocess/3',\n",
        "    'small_bert/bert_en_uncased_L-8_H-128_A-2':\n",
        "        'https://tfhub.dev/tensorflow/bert_en_uncased_preprocess/3',\n",
        "    'small_bert/bert_en_uncased_L-8_H-256_A-4':\n",
        "        'https://tfhub.dev/tensorflow/bert_en_uncased_preprocess/3',\n",
        "    'small_bert/bert_en_uncased_L-8_H-512_A-8':\n",
        "        'https://tfhub.dev/tensorflow/bert_en_uncased_preprocess/3',\n",
        "    'small_bert/bert_en_uncased_L-8_H-768_A-12':\n",
        "        'https://tfhub.dev/tensorflow/bert_en_uncased_preprocess/3',\n",
        "    'small_bert/bert_en_uncased_L-10_H-128_A-2':\n",
        "        'https://tfhub.dev/tensorflow/bert_en_uncased_preprocess/3',\n",
        "    'small_bert/bert_en_uncased_L-10_H-256_A-4':\n",
        "        'https://tfhub.dev/tensorflow/bert_en_uncased_preprocess/3',\n",
        "    'small_bert/bert_en_uncased_L-10_H-512_A-8':\n",
        "        'https://tfhub.dev/tensorflow/bert_en_uncased_preprocess/3',\n",
        "    'small_bert/bert_en_uncased_L-10_H-768_A-12':\n",
        "        'https://tfhub.dev/tensorflow/bert_en_uncased_preprocess/3',\n",
        "    'small_bert/bert_en_uncased_L-12_H-128_A-2':\n",
        "        'https://tfhub.dev/tensorflow/bert_en_uncased_preprocess/3',\n",
        "    'small_bert/bert_en_uncased_L-12_H-256_A-4':\n",
        "        'https://tfhub.dev/tensorflow/bert_en_uncased_preprocess/3',\n",
        "    'small_bert/bert_en_uncased_L-12_H-512_A-8':\n",
        "        'https://tfhub.dev/tensorflow/bert_en_uncased_preprocess/3',\n",
        "    'small_bert/bert_en_uncased_L-12_H-768_A-12':\n",
        "        'https://tfhub.dev/tensorflow/bert_en_uncased_preprocess/3',\n",
        "    'bert_multi_cased_L-12_H-768_A-12':\n",
        "        'https://tfhub.dev/tensorflow/bert_multi_cased_preprocess/3',\n",
        "    'albert_en_base':\n",
        "        'https://tfhub.dev/tensorflow/albert_en_preprocess/3',\n",
        "    'electra_small':\n",
        "        'https://tfhub.dev/tensorflow/bert_en_uncased_preprocess/3',\n",
        "    'electra_base':\n",
        "        'https://tfhub.dev/tensorflow/bert_en_uncased_preprocess/3',\n",
        "    'experts_pubmed':\n",
        "        'https://tfhub.dev/tensorflow/bert_en_uncased_preprocess/3',\n",
        "    'experts_wiki_books':\n",
        "        'https://tfhub.dev/tensorflow/bert_en_uncased_preprocess/3',\n",
        "    'talking-heads_base':\n",
        "        'https://tfhub.dev/tensorflow/bert_en_uncased_preprocess/3',\n",
        "}\n",
        "\n",
        "tfhub_handle_encoder = map_name_to_handle[bert_model_name]\n",
        "tfhub_handle_preprocess = map_model_to_preprocess[bert_model_name]\n",
        "\n",
        "print(f'BERT model selected           : {tfhub_handle_encoder}')\n",
        "print(f'Preprocess model auto-selected: {tfhub_handle_preprocess}')"
      ],
      "execution_count": 28,
      "outputs": [
        {
          "output_type": "stream",
          "text": [
            "BERT model selected           : https://tfhub.dev/tensorflow/small_bert/bert_en_uncased_L-4_H-512_A-8/1\n",
            "Preprocess model auto-selected: https://tfhub.dev/tensorflow/bert_en_uncased_preprocess/3\n"
          ],
          "name": "stdout"
        }
      ]
    },
    {
      "cell_type": "markdown",
      "metadata": {
        "id": "wFJF2uAYivxw"
      },
      "source": [
        "----\n",
        "BERT Test"
      ]
    },
    {
      "cell_type": "code",
      "metadata": {
        "colab": {
          "base_uri": "https://localhost:8080/"
        },
        "id": "PCuLHCcvihTZ",
        "outputId": "bbaa0574-bb38-4043-ef97-ae7c7cd479d6"
      },
      "source": [
        "bert_preprocess_model = hub.KerasLayer(tfhub_handle_preprocess)\n",
        "\n",
        "text_test = ['this is such an amazing movie!']\n",
        "text_preprocessed = bert_preprocess_model(text_test)\n",
        "\n",
        "print(f'Keys       : {list(text_preprocessed.keys())}')\n",
        "print(f'Shape      : {text_preprocessed[\"input_word_ids\"].shape}')\n",
        "print(f'Word Ids   : {text_preprocessed[\"input_word_ids\"][0, :12]}')\n",
        "print(f'Input Mask : {text_preprocessed[\"input_mask\"][0, :12]}')\n",
        "print(f'Type Ids   : {text_preprocessed[\"input_type_ids\"][0, :12]}')"
      ],
      "execution_count": 29,
      "outputs": [
        {
          "output_type": "stream",
          "text": [
            "Keys       : ['input_word_ids', 'input_mask', 'input_type_ids']\n",
            "Shape      : (1, 128)\n",
            "Word Ids   : [ 101 2023 2003 2107 2019 6429 3185  999  102    0    0    0]\n",
            "Input Mask : [1 1 1 1 1 1 1 1 1 0 0 0]\n",
            "Type Ids   : [0 0 0 0 0 0 0 0 0 0 0 0]\n"
          ],
          "name": "stdout"
        }
      ]
    },
    {
      "cell_type": "code",
      "metadata": {
        "colab": {
          "base_uri": "https://localhost:8080/"
        },
        "id": "EdN6q47aijBy",
        "outputId": "be3c4471-cda2-49c0-a068-acadc63b6ff5"
      },
      "source": [
        "bert_model = hub.KerasLayer(tfhub_handle_encoder)\n",
        "\n",
        "bert_results = bert_model(text_preprocessed)\n",
        "\n",
        "print(f'Loaded BERT: {tfhub_handle_encoder}')\n",
        "print(f'Pooled Outputs Shape:{bert_results[\"pooled_output\"].shape}')\n",
        "print(f'Pooled Outputs Values:{bert_results[\"pooled_output\"][0, :12]}')\n",
        "print(f'Sequence Outputs Shape:{bert_results[\"sequence_output\"].shape}')\n",
        "print(f'Sequence Outputs Values:{bert_results[\"sequence_output\"][0, :12]}')"
      ],
      "execution_count": 30,
      "outputs": [
        {
          "output_type": "stream",
          "text": [
            "Loaded BERT: https://tfhub.dev/tensorflow/small_bert/bert_en_uncased_L-4_H-512_A-8/1\n",
            "Pooled Outputs Shape:(1, 512)\n",
            "Pooled Outputs Values:[ 0.7626289   0.9928099  -0.18611847  0.36673844  0.15233688  0.6550448\n",
            "  0.9681154  -0.948627    0.00216161 -0.9877732   0.06842694 -0.97630596]\n",
            "Sequence Outputs Shape:(1, 128, 512)\n",
            "Sequence Outputs Values:[[-0.2894631   0.34321257  0.33231482 ...  0.2130079   0.710208\n",
            "  -0.05771104]\n",
            " [-0.28741983  0.31981012 -0.2301856  ...  0.584551   -0.21329626\n",
            "   0.7269212 ]\n",
            " [-0.6615694   0.68876845 -0.87433046 ...  0.10877308 -0.2617321\n",
            "   0.47855446]\n",
            " ...\n",
            " [-0.22561106 -0.28925565 -0.07064411 ...  0.4756602   0.8327715\n",
            "   0.40025333]\n",
            " [-0.29824218 -0.27473184 -0.05450517 ...  0.48849645  1.0955355\n",
            "   0.1816338 ]\n",
            " [-0.44378152  0.00930741  0.07223725 ...  0.17290096  1.1833245\n",
            "   0.0789802 ]]\n"
          ],
          "name": "stdout"
        }
      ]
    },
    {
      "cell_type": "markdown",
      "metadata": {
        "id": "vfW1TH-YjH67"
      },
      "source": [
        "# Define Model"
      ]
    },
    {
      "cell_type": "code",
      "metadata": {
        "colab": {
          "base_uri": "https://localhost:8080/",
          "height": 35
        },
        "id": "s-eEIhGxjdqn",
        "outputId": "6e657e36-a9c9-48d4-ca96-97b44c265cf2"
      },
      "source": [
        "tf.__version__"
      ],
      "execution_count": 31,
      "outputs": [
        {
          "output_type": "execute_result",
          "data": {
            "application/vnd.google.colaboratory.intrinsic+json": {
              "type": "string"
            },
            "text/plain": [
              "'2.4.1'"
            ]
          },
          "metadata": {
            "tags": []
          },
          "execution_count": 31
        }
      ]
    },
    {
      "cell_type": "code",
      "metadata": {
        "id": "GNAAvjELku2Q"
      },
      "source": [
        "!pip install -q tf-models-official"
      ],
      "execution_count": 32,
      "outputs": []
    },
    {
      "cell_type": "code",
      "metadata": {
        "id": "xL_qCU-ZkyKi"
      },
      "source": [
        "!pip install -q tensorflow-text"
      ],
      "execution_count": 33,
      "outputs": []
    },
    {
      "cell_type": "code",
      "metadata": {
        "id": "a0FUdxjrgnn2"
      },
      "source": [
        "def build_classifier_model():\n",
        "    text_input = tf.keras.layers.Input(shape=(), dtype=tf.string, name='text')\n",
        "    preprocessing_layer = hub.KerasLayer(tfhub_handle_preprocess, name='preprocessing')\n",
        "    encoder_inputs = preprocessing_layer(text_input)\n",
        "    encoder = hub.KerasLayer(tfhub_handle_encoder, trainable=True, name='BERT_encoder')\n",
        "    outputs = encoder(encoder_inputs)\n",
        "    net = outputs['pooled_output']\n",
        "    net = tf.keras.layers.Dropout(0.1)(net)\n",
        "    net = tf.keras.layers.Dense(1, activation=None, name='classifier')(net)\n",
        "    return tf.keras.Model(text_input, net)"
      ],
      "execution_count": 34,
      "outputs": []
    },
    {
      "cell_type": "code",
      "metadata": {
        "colab": {
          "base_uri": "https://localhost:8080/"
        },
        "id": "cwmkY5ODl-jx",
        "outputId": "458df196-7fc6-4056-d155-5ec6a543387c"
      },
      "source": [
        "df['text']"
      ],
      "execution_count": 42,
      "outputs": [
        {
          "output_type": "execute_result",
          "data": {
            "text/plain": [
              "0       same folks said daikon paste could treat a cyt...\n",
              "1       while the world has been on the wrong side of ...\n",
              "2       coronavirus sputnikv astrazeneca pfizerbiontec...\n",
              "3       facts are immutable senator even when youre no...\n",
              "4       explain to me again why we need a vaccine bori...\n",
              "                              ...                        \n",
              "8077    off for my second vaccine then work cured pfiz...\n",
              "8078    when appears to be a milliondollar question th...\n",
              "8079    second pfizerbiontech vaccine shot done thanks...\n",
              "8080    second pfizerbiontech vaccine is officially in...\n",
              "8081    midday dgci why not allow other proven vaccine...\n",
              "Name: text, Length: 8082, dtype: object"
            ]
          },
          "metadata": {
            "tags": []
          },
          "execution_count": 42
        }
      ]
    },
    {
      "cell_type": "code",
      "metadata": {
        "colab": {
          "base_uri": "https://localhost:8080/"
        },
        "id": "eha1T2oLj5ia",
        "outputId": "2f64d2d1-a7bf-4c3a-9af6-c3d8e70d81eb"
      },
      "source": [
        "text_test = [df['text'][0]]\n",
        "text_test"
      ],
      "execution_count": 54,
      "outputs": [
        {
          "output_type": "execute_result",
          "data": {
            "text/plain": [
              "['same folks said daikon paste could treat a cytokine storm pfizerbiontech httpstcoxehhimg1kf']"
            ]
          },
          "metadata": {
            "tags": []
          },
          "execution_count": 54
        }
      ]
    },
    {
      "cell_type": "code",
      "metadata": {
        "colab": {
          "base_uri": "https://localhost:8080/"
        },
        "id": "IwFj3iq0goKt",
        "outputId": "51cc3369-4e8b-45f5-aec9-8043b708ad94"
      },
      "source": [
        "classifier_model = build_classifier_model()\n",
        "bert_raw_result = classifier_model(tf.constant(text_test))\n",
        "print(tf.sigmoid(bert_raw_result))"
      ],
      "execution_count": 55,
      "outputs": [
        {
          "output_type": "stream",
          "text": [
            "tf.Tensor([[ True]], shape=(1, 1), dtype=bool)\n"
          ],
          "name": "stdout"
        }
      ]
    },
    {
      "cell_type": "code",
      "metadata": {
        "colab": {
          "base_uri": "https://localhost:8080/"
        },
        "id": "tjSo308dnOTX",
        "outputId": "cd65e231-b093-4fc1-c866-e9a36c47991a"
      },
      "source": [
        "print(tf.sigmoid(bert_raw_result))\n",
        "print(tf.sigmoid(bert_raw_result)<0.5)"
      ],
      "execution_count": 63,
      "outputs": [
        {
          "output_type": "stream",
          "text": [
            "tf.Tensor([[0.5108085]], shape=(1, 1), dtype=float32)\n",
            "tf.Tensor([[False]], shape=(1, 1), dtype=bool)\n"
          ],
          "name": "stdout"
        }
      ]
    },
    {
      "cell_type": "code",
      "metadata": {
        "id": "3tVxcTNriOHO"
      },
      "source": [
        "label = []\n",
        "# 1 : Positive, 0 : negative\n",
        "for i, v in enumerate(df['text']):\n",
        "  bert_raw_result = classifier_model(tf.constant([df['text'][i]]))\n",
        "  if tf.sigmoid(bert_raw_result) > 0.5:\n",
        "    label.append(1)\n",
        "  else:\n",
        "    label.append(0)"
      ],
      "execution_count": null,
      "outputs": []
    },
    {
      "cell_type": "code",
      "metadata": {
        "colab": {
          "base_uri": "https://localhost:8080/",
          "height": 145
        },
        "id": "Qs2i7fsWiOBT",
        "outputId": "d1bd1414-2b85-436c-fe88-5a8524b3ec1f"
      },
      "source": [
        "df['label'] = label\n",
        "df.head(2)"
      ],
      "execution_count": 70,
      "outputs": [
        {
          "output_type": "execute_result",
          "data": {
            "text/html": [
              "<div>\n",
              "<style scoped>\n",
              "    .dataframe tbody tr th:only-of-type {\n",
              "        vertical-align: middle;\n",
              "    }\n",
              "\n",
              "    .dataframe tbody tr th {\n",
              "        vertical-align: top;\n",
              "    }\n",
              "\n",
              "    .dataframe thead th {\n",
              "        text-align: right;\n",
              "    }\n",
              "</style>\n",
              "<table border=\"1\" class=\"dataframe\">\n",
              "  <thead>\n",
              "    <tr style=\"text-align: right;\">\n",
              "      <th></th>\n",
              "      <th>raw_text</th>\n",
              "      <th>text</th>\n",
              "      <th>tokens</th>\n",
              "      <th>label</th>\n",
              "    </tr>\n",
              "  </thead>\n",
              "  <tbody>\n",
              "    <tr>\n",
              "      <th>0</th>\n",
              "      <td>Same folks said daikon paste could treat a cyt...</td>\n",
              "      <td>same folks said daikon paste could treat a cyt...</td>\n",
              "      <td>[folks, said, daikon, paste, treat, cytokine, ...</td>\n",
              "      <td>1</td>\n",
              "    </tr>\n",
              "    <tr>\n",
              "      <th>1</th>\n",
              "      <td>While the world has been on the wrong side of ...</td>\n",
              "      <td>while the world has been on the wrong side of ...</td>\n",
              "      <td>[world, wrong, history, year,, hopefully,, big...</td>\n",
              "      <td>1</td>\n",
              "    </tr>\n",
              "  </tbody>\n",
              "</table>\n",
              "</div>"
            ],
            "text/plain": [
              "                                            raw_text  ... label\n",
              "0  Same folks said daikon paste could treat a cyt...  ...     1\n",
              "1  While the world has been on the wrong side of ...  ...     1\n",
              "\n",
              "[2 rows x 4 columns]"
            ]
          },
          "metadata": {
            "tags": []
          },
          "execution_count": 70
        }
      ]
    },
    {
      "cell_type": "code",
      "metadata": {
        "colab": {
          "base_uri": "https://localhost:8080/",
          "height": 419
        },
        "id": "5JRCogbavN31",
        "outputId": "3be9962d-dbea-4f43-c3ac-7856f21c684f"
      },
      "source": [
        "bert_df = df[['text', 'label']]\n",
        "bert_df"
      ],
      "execution_count": 101,
      "outputs": [
        {
          "output_type": "execute_result",
          "data": {
            "text/html": [
              "<div>\n",
              "<style scoped>\n",
              "    .dataframe tbody tr th:only-of-type {\n",
              "        vertical-align: middle;\n",
              "    }\n",
              "\n",
              "    .dataframe tbody tr th {\n",
              "        vertical-align: top;\n",
              "    }\n",
              "\n",
              "    .dataframe thead th {\n",
              "        text-align: right;\n",
              "    }\n",
              "</style>\n",
              "<table border=\"1\" class=\"dataframe\">\n",
              "  <thead>\n",
              "    <tr style=\"text-align: right;\">\n",
              "      <th></th>\n",
              "      <th>text</th>\n",
              "      <th>label</th>\n",
              "    </tr>\n",
              "  </thead>\n",
              "  <tbody>\n",
              "    <tr>\n",
              "      <th>0</th>\n",
              "      <td>same folks said daikon paste could treat a cyt...</td>\n",
              "      <td>1</td>\n",
              "    </tr>\n",
              "    <tr>\n",
              "      <th>1</th>\n",
              "      <td>while the world has been on the wrong side of ...</td>\n",
              "      <td>1</td>\n",
              "    </tr>\n",
              "    <tr>\n",
              "      <th>2</th>\n",
              "      <td>coronavirus sputnikv astrazeneca pfizerbiontec...</td>\n",
              "      <td>1</td>\n",
              "    </tr>\n",
              "    <tr>\n",
              "      <th>3</th>\n",
              "      <td>facts are immutable senator even when youre no...</td>\n",
              "      <td>1</td>\n",
              "    </tr>\n",
              "    <tr>\n",
              "      <th>4</th>\n",
              "      <td>explain to me again why we need a vaccine bori...</td>\n",
              "      <td>1</td>\n",
              "    </tr>\n",
              "    <tr>\n",
              "      <th>...</th>\n",
              "      <td>...</td>\n",
              "      <td>...</td>\n",
              "    </tr>\n",
              "    <tr>\n",
              "      <th>8077</th>\n",
              "      <td>off for my second vaccine then work cured pfiz...</td>\n",
              "      <td>1</td>\n",
              "    </tr>\n",
              "    <tr>\n",
              "      <th>8078</th>\n",
              "      <td>when appears to be a milliondollar question th...</td>\n",
              "      <td>1</td>\n",
              "    </tr>\n",
              "    <tr>\n",
              "      <th>8079</th>\n",
              "      <td>second pfizerbiontech vaccine shot done thanks...</td>\n",
              "      <td>1</td>\n",
              "    </tr>\n",
              "    <tr>\n",
              "      <th>8080</th>\n",
              "      <td>second pfizerbiontech vaccine is officially in...</td>\n",
              "      <td>1</td>\n",
              "    </tr>\n",
              "    <tr>\n",
              "      <th>8081</th>\n",
              "      <td>midday dgci why not allow other proven vaccine...</td>\n",
              "      <td>1</td>\n",
              "    </tr>\n",
              "  </tbody>\n",
              "</table>\n",
              "<p>8082 rows × 2 columns</p>\n",
              "</div>"
            ],
            "text/plain": [
              "                                                   text  label\n",
              "0     same folks said daikon paste could treat a cyt...      1\n",
              "1     while the world has been on the wrong side of ...      1\n",
              "2     coronavirus sputnikv astrazeneca pfizerbiontec...      1\n",
              "3     facts are immutable senator even when youre no...      1\n",
              "4     explain to me again why we need a vaccine bori...      1\n",
              "...                                                 ...    ...\n",
              "8077  off for my second vaccine then work cured pfiz...      1\n",
              "8078  when appears to be a milliondollar question th...      1\n",
              "8079  second pfizerbiontech vaccine shot done thanks...      1\n",
              "8080  second pfizerbiontech vaccine is officially in...      1\n",
              "8081  midday dgci why not allow other proven vaccine...      1\n",
              "\n",
              "[8082 rows x 2 columns]"
            ]
          },
          "metadata": {
            "tags": []
          },
          "execution_count": 101
        }
      ]
    },
    {
      "cell_type": "code",
      "metadata": {
        "colab": {
          "base_uri": "https://localhost:8080/"
        },
        "id": "uNADfBFzvs6e",
        "outputId": "7f6fdb30-3775-43ea-eac0-b672b27d1a2f"
      },
      "source": [
        "bert_df.label.unique()\n",
        "bert_df.label.value_counts()"
      ],
      "execution_count": 103,
      "outputs": [
        {
          "output_type": "execute_result",
          "data": {
            "text/plain": [
              "1    7642\n",
              "0     440\n",
              "Name: label, dtype: int64"
            ]
          },
          "metadata": {
            "tags": []
          },
          "execution_count": 103
        }
      ]
    },
    {
      "cell_type": "code",
      "metadata": {
        "id": "MmpXoErCv_AT"
      },
      "source": [
        "!pip install bert-for-tf2\n",
        "!pip install sentencepiece"
      ],
      "execution_count": 105,
      "outputs": []
    },
    {
      "cell_type": "code",
      "metadata": {
        "id": "UrrJx8Apv_fF"
      },
      "source": [
        "try:\n",
        "    %tensorflow_version 2.x\n",
        "except Exception:\n",
        "    pass\n",
        "import tensorflow as tf\n",
        "\n",
        "import tensorflow_hub as hub\n",
        "\n",
        "from tensorflow.keras import layers\n",
        "import bert"
      ],
      "execution_count": 106,
      "outputs": []
    },
    {
      "cell_type": "code",
      "metadata": {
        "colab": {
          "base_uri": "https://localhost:8080/"
        },
        "id": "sibRwkENv6TF",
        "outputId": "37aee938-b924-436e-c2a7-e3aeff2467c3"
      },
      "source": [
        "BertTokenizer = bert.bert_tokenization.FullTokenizer\n",
        "bert_layer = hub.KerasLayer(\"https://tfhub.dev/tensorflow/bert_en_uncased_L-12_H-768_A-12/1\",\n",
        "                            trainable=False)\n",
        "vocabulary_file = bert_layer.resolved_object.vocab_file.asset_path.numpy()\n",
        "to_lower_case = bert_layer.resolved_object.do_lower_case.numpy()\n",
        "tokenizer = BertTokenizer(vocabulary_file, to_lower_case)"
      ],
      "execution_count": 107,
      "outputs": [
        {
          "output_type": "stream",
          "text": [
            "INFO:absl:Downloading TF-Hub Module 'https://tfhub.dev/tensorflow/bert_en_uncased_L-12_H-768_A-12/1'.\n",
            "INFO:absl:Downloaded https://tfhub.dev/tensorflow/bert_en_uncased_L-12_H-768_A-12/1, Total size: 423.26MB\n",
            "INFO:absl:Downloaded TF-Hub Module 'https://tfhub.dev/tensorflow/bert_en_uncased_L-12_H-768_A-12/1'.\n"
          ],
          "name": "stderr"
        }
      ]
    },
    {
      "cell_type": "code",
      "metadata": {
        "id": "yPBOjQNtv7CU"
      },
      "source": [
        "# test\n",
        "tokenizer.tokenize(\"don't be so judgmental\")\n",
        "tokenizer.convert_tokens_to_ids(tokenizer.tokenize(\"dont be so judgmental\"))\n"
      ],
      "execution_count": 110,
      "outputs": []
    },
    {
      "cell_type": "code",
      "metadata": {
        "id": "UpIxKM5AwueB"
      },
      "source": [
        "X = df['text']"
      ],
      "execution_count": 115,
      "outputs": []
    },
    {
      "cell_type": "code",
      "metadata": {
        "colab": {
          "base_uri": "https://localhost:8080/"
        },
        "id": "Vci6h8CCxJFe",
        "outputId": "6e3618e9-e7c5-4c4a-f05d-fddce6e151d8"
      },
      "source": [
        "y = df['label']\n",
        "y"
      ],
      "execution_count": 114,
      "outputs": [
        {
          "output_type": "execute_result",
          "data": {
            "text/plain": [
              "0       1\n",
              "1       1\n",
              "2       1\n",
              "3       1\n",
              "4       1\n",
              "       ..\n",
              "8077    1\n",
              "8078    1\n",
              "8079    1\n",
              "8080    1\n",
              "8081    1\n",
              "Name: label, Length: 8082, dtype: int64"
            ]
          },
          "metadata": {
            "tags": []
          },
          "execution_count": 114
        }
      ]
    },
    {
      "cell_type": "code",
      "metadata": {
        "id": "ci3xx7cjweQG"
      },
      "source": [
        "def tokenize_reviews(text_reviews):\n",
        "    return tokenizer.convert_tokens_to_ids(tokenizer.tokenize(text_reviews))\n",
        "\n",
        "tokenized_reviews = [tokenize_reviews(text) for text in X]\n"
      ],
      "execution_count": 116,
      "outputs": []
    },
    {
      "cell_type": "code",
      "metadata": {
        "id": "tJq82Jyaxg1x"
      },
      "source": [
        "reviews_with_len = [[review, y[i], len(review)]\n",
        "                 for i, review in enumerate(tokenized_reviews)]"
      ],
      "execution_count": 120,
      "outputs": []
    },
    {
      "cell_type": "code",
      "metadata": {
        "id": "DIl_G1sEx5wh"
      },
      "source": [
        "import random\n",
        "\n",
        "random.shuffle(reviews_with_len)"
      ],
      "execution_count": 122,
      "outputs": []
    },
    {
      "cell_type": "code",
      "metadata": {
        "id": "hHtmfMANyAnj"
      },
      "source": [
        "reviews_with_len.sort(key=lambda x: x[2])"
      ],
      "execution_count": 123,
      "outputs": []
    },
    {
      "cell_type": "code",
      "metadata": {
        "id": "fxOvkLinyoIT"
      },
      "source": [
        "sorted_reviews_labels = [(review_lab[0], review_lab[1]) for review_lab in reviews_with_len]"
      ],
      "execution_count": 124,
      "outputs": []
    },
    {
      "cell_type": "code",
      "metadata": {
        "id": "PdWSpIpNyrFx"
      },
      "source": [
        "processed_dataset = tf.data.Dataset.from_generator(lambda: sorted_reviews_labels, output_types=(tf.int32, tf.int32))"
      ],
      "execution_count": 125,
      "outputs": []
    },
    {
      "cell_type": "code",
      "metadata": {
        "id": "7xoLMC_jyuFd"
      },
      "source": [
        "BATCH_SIZE = 32\n",
        "batched_dataset = processed_dataset.padded_batch(BATCH_SIZE, padded_shapes=((None, ), ()))"
      ],
      "execution_count": 126,
      "outputs": []
    },
    {
      "cell_type": "code",
      "metadata": {
        "colab": {
          "base_uri": "https://localhost:8080/"
        },
        "id": "XQkwv2XQyv-Z",
        "outputId": "c25dd4d7-c065-42ae-8be9-8e78db70dea7"
      },
      "source": [
        "next(iter(batched_dataset))"
      ],
      "execution_count": 127,
      "outputs": [
        {
          "output_type": "execute_result",
          "data": {
            "text/plain": [
              "(<tf.Tensor: shape=(32, 12), dtype=int32, numpy=\n",
              " array([[ 2117, 13004,  1052,  8873,  6290, 26282, 10111,  2818,     0,\n",
              "             0,     0,     0],\n",
              "        [ 2034, 13004,  2589, 14376, 17629, 26282, 10111,  2818,     0,\n",
              "             0,     0,     0],\n",
              "        [ 2034, 13004,  1052,  8873,  6290, 26282, 10111,  2818,     0,\n",
              "             0,     0,     0],\n",
              "        [ 2034, 13004,  2589,  1052,  8873,  6290, 26282, 10111,  2818,\n",
              "             0,     0,     0],\n",
              "        [ 3416, 13004,  2589,  1052,  8873,  6290, 26282, 10111,  2818,\n",
              "             0,     0,     0],\n",
              "        [12436, 14693, 23854,  1052,  8873,  6290, 26282, 10111,  2818,\n",
              "             0,     0,     0],\n",
              "        [ 2117,  2915,  1999,  2849, 14376, 17629, 26282, 10111,  2818,\n",
              "             0,     0,     0],\n",
              "        [ 1052,  8873,  6290, 26282, 10111,  2818, 17404,  2005,  4238,\n",
              "             0,     0,     0],\n",
              "        [ 3416, 17404,  2589,  1052,  8873,  6290, 26282, 10111,  2818,\n",
              "             0,     0,     0],\n",
              "        [ 2288,  1996,  1052,  8873,  6290, 26282, 10111,  2818, 17404,\n",
              "             0,     0,     0],\n",
              "        [12436, 14693, 23854,  1052,  8873,  6290, 26282, 10111,  2818,\n",
              "             0,     0,     0],\n",
              "        [ 3201, 13462,  3995, 14376, 17629, 26282, 10111,  2818,  7861,\n",
              "          2050,     0,     0],\n",
              "        [ 2288,  2026,  2117, 13004,  1052,  8873,  6290, 26282, 10111,\n",
              "          2818,     0,     0],\n",
              "        [12954,  2288,  1037,  2915,  1052,  8873,  6290, 26282, 10111,\n",
              "          2818,     0,     0],\n",
              "        [12436, 14693,  9323,  2154,  1052,  8873,  6290, 26282, 10111,\n",
              "          2818,     0,     0],\n",
              "        [ 3985,  2136,  1052,  8873,  6290, 26282, 10111,  2818, 13004,\n",
              "          2487,     0,     0],\n",
              "        [ 3929, 12436, 14693, 23854,  1052,  8873,  6290, 26282, 10111,\n",
              "          2818,     0,     0],\n",
              "        [ 2288,  2026,  2117, 13004,  1052,  8873,  6290, 26282, 10111,\n",
              "          2818,     0,     0],\n",
              "        [ 2260, 12436, 14693, 23854,  1052,  8873,  6290, 26282, 10111,\n",
              "          2818,     0,     0],\n",
              "        [10047,  2863,  2470,  2242,  2006,  1052,  8873,  6290, 26282,\n",
              "         10111,  2818,     0],\n",
              "        [ 2074,  2288,  2026,  2034, 17404,  1052,  8873,  6290, 26282,\n",
              "         10111,  2818,     0],\n",
              "        [ 2288,  2026,  2034, 17404,  2915,  1052,  8873,  6290, 26282,\n",
              "         10111,  2818,     0],\n",
              "        [ 2589,  2026,  3416, 13004,  1997,  1052,  8873,  6290, 26282,\n",
              "         10111,  2818,     0],\n",
              "        [ 2034, 13004,  1997, 17404,  2589,  1052,  8873,  6290, 26282,\n",
              "         10111,  2818,     0],\n",
              "        [ 2018,  2026,  2117, 17404, 13004,  1052,  8873,  6290, 26282,\n",
              "         10111,  2818,     0],\n",
              "        [ 2893, 12436, 14693, 23854,  2651,  1052,  8873,  6290, 26282,\n",
              "         10111,  2818,     0],\n",
              "        [ 2034, 13004, 27120, 12436, 14693, 23854,  1052,  8873,  6290,\n",
              "         26282, 10111,  2818],\n",
              "        [26219, 18827, 18168,  2290, 23156, 17404,  1052,  8873,  6290,\n",
              "         26282, 10111,  2818],\n",
              "        [12436, 14693, 23854,  2034, 13004,  2651,  1052,  8873,  6290,\n",
              "         26282, 10111,  2818],\n",
              "        [ 2049,  1037,  2307,  2154,  2005,  2671,  1052,  8873,  6290,\n",
              "         26282, 10111,  2818],\n",
              "        [ 2449,  2057,  2123,  2102,  2903,  1999,  1052,  8873,  6290,\n",
              "         26282, 10111,  2818],\n",
              "        [ 2288,  2026,  3416,  2915,  1997,  1052,  8873,  6290, 26282,\n",
              "         10111,  2818,  2651]], dtype=int32)>,\n",
              " <tf.Tensor: shape=(32,), dtype=int32, numpy=\n",
              " array([1, 1, 1, 1, 1, 1, 1, 1, 0, 1, 1, 1, 1, 1, 1, 1, 1, 1, 0, 0, 1, 1,\n",
              "        1, 1, 1, 1, 1, 0, 1, 1, 1, 1], dtype=int32)>)"
            ]
          },
          "metadata": {
            "tags": []
          },
          "execution_count": 127
        }
      ]
    },
    {
      "cell_type": "code",
      "metadata": {
        "id": "XbbWUghXyxR2"
      },
      "source": [
        "import math\n",
        "\n",
        "TOTAL_BATCHES = math.ceil(len(sorted_reviews_labels) / BATCH_SIZE)\n",
        "TEST_BATCHES = TOTAL_BATCHES // 10\n",
        "batched_dataset.shuffle(TOTAL_BATCHES)\n",
        "test_data = batched_dataset.take(TEST_BATCHES)\n",
        "train_data = batched_dataset.skip(TEST_BATCHES)"
      ],
      "execution_count": 130,
      "outputs": []
    },
    {
      "cell_type": "markdown",
      "metadata": {
        "id": "RLSDNz7C0s7c"
      },
      "source": [
        "----"
      ]
    },
    {
      "cell_type": "code",
      "metadata": {
        "id": "qlnrMs0FetKl"
      },
      "source": [
        "class TEXT_MODEL(tf.keras.Model):\n",
        "    \n",
        "    def __init__(self,\n",
        "                 vocabulary_size,\n",
        "                 embedding_dimensions=128,\n",
        "                 cnn_filters=50,\n",
        "                 dnn_units=512,\n",
        "                 model_output_classes=2,\n",
        "                 dropout_rate=0.1,\n",
        "                 training=False,\n",
        "                 name=\"text_model\"):\n",
        "        super(TEXT_MODEL, self).__init__(name=name)\n",
        "        \n",
        "        self.embedding = layers.Embedding(vocabulary_size,\n",
        "                                          embedding_dimensions)\n",
        "        self.cnn_layer1 = layers.Conv1D(filters=cnn_filters,\n",
        "                                        kernel_size=2,\n",
        "                                        padding=\"valid\",\n",
        "                                        activation=\"relu\")\n",
        "        self.cnn_layer2 = layers.Conv1D(filters=cnn_filters,\n",
        "                                        kernel_size=3,\n",
        "                                        padding=\"valid\",\n",
        "                                        activation=\"relu\")\n",
        "        self.cnn_layer3 = layers.Conv1D(filters=cnn_filters,\n",
        "                                        kernel_size=4,\n",
        "                                        padding=\"valid\",\n",
        "                                        activation=\"relu\")\n",
        "        self.pool = layers.GlobalMaxPool1D()\n",
        "        \n",
        "        self.dense_1 = layers.Dense(units=dnn_units, activation=\"relu\")\n",
        "        self.dropout = layers.Dropout(rate=dropout_rate)\n",
        "        if model_output_classes == 2:\n",
        "            self.last_dense = layers.Dense(units=1,\n",
        "                                           activation=\"sigmoid\")\n",
        "        else:\n",
        "            self.last_dense = layers.Dense(units=model_output_classes,\n",
        "                                           activation=\"softmax\")\n",
        "    \n",
        "    def call(self, inputs, training):\n",
        "        l = self.embedding(inputs)\n",
        "        l_1 = self.cnn_layer1(l) \n",
        "        l_1 = self.pool(l_1) \n",
        "        l_2 = self.cnn_layer2(l) \n",
        "        l_2 = self.pool(l_2)\n",
        "        l_3 = self.cnn_layer3(l)\n",
        "        l_3 = self.pool(l_3) \n",
        "        \n",
        "        concatenated = tf.concat([l_1, l_2, l_3], axis=-1) # (batch_size, 3 * cnn_filters)\n",
        "        concatenated = self.dense_1(concatenated)\n",
        "        concatenated = self.dropout(concatenated, training)\n",
        "        model_output = self.last_dense(concatenated)\n",
        "        \n",
        "        return model_output"
      ],
      "execution_count": 131,
      "outputs": []
    },
    {
      "cell_type": "code",
      "metadata": {
        "id": "OFFThr03zG0l"
      },
      "source": [
        "VOCAB_LENGTH = len(tokenizer.vocab)\n",
        "EMB_DIM = 200\n",
        "CNN_FILTERS = 100\n",
        "DNN_UNITS = 256\n",
        "OUTPUT_CLASSES = 2\n",
        "\n",
        "DROPOUT_RATE = 0.2\n",
        "\n",
        "NB_EPOCHS = 5\n",
        "\n",
        "text_model = TEXT_MODEL(vocabulary_size=VOCAB_LENGTH,\n",
        "                        embedding_dimensions=EMB_DIM,\n",
        "                        cnn_filters=CNN_FILTERS,\n",
        "                        dnn_units=DNN_UNITS,\n",
        "                        model_output_classes=OUTPUT_CLASSES,\n",
        "                        dropout_rate=DROPOUT_RATE)"
      ],
      "execution_count": 132,
      "outputs": []
    },
    {
      "cell_type": "code",
      "metadata": {
        "id": "IB3LechVzLRc"
      },
      "source": [
        "loss = tf.keras.losses.BinaryCrossentropy(from_logits=True)\n",
        "metrics = tf.metrics.BinaryAccuracy()\n",
        "\n",
        "if OUTPUT_CLASSES == 2:\n",
        "    text_model.compile(loss=loss,\n",
        "                       optimizer=\"adam\",\n",
        "                       metrics=metrics)\n",
        "else:\n",
        "    text_model.compile(loss=loss,\n",
        "                       optimizer=\"adam\",\n",
        "                       metrics=metrics)"
      ],
      "execution_count": 155,
      "outputs": []
    },
    {
      "cell_type": "code",
      "metadata": {
        "colab": {
          "base_uri": "https://localhost:8080/"
        },
        "id": "KljAx_xczOUq",
        "outputId": "8adba787-6b93-4e34-f30b-c484f286ced1"
      },
      "source": [
        "hist = text_model.fit(train_data,validation_data=test_data, epochs=NB_EPOCHS)"
      ],
      "execution_count": 156,
      "outputs": [
        {
          "output_type": "stream",
          "text": [
            "Epoch 1/5\n",
            "228/228 [==============================] - 12s 49ms/step - loss: 0.0010 - binary_accuracy: 1.0000 - val_loss: 1.3191 - val_binary_accuracy: 0.8850\n",
            "Epoch 2/5\n",
            "228/228 [==============================] - 11s 46ms/step - loss: 0.0021 - binary_accuracy: 0.9995 - val_loss: 1.6162 - val_binary_accuracy: 0.8975\n",
            "Epoch 3/5\n",
            "228/228 [==============================] - 10s 45ms/step - loss: 0.0111 - binary_accuracy: 0.9981 - val_loss: 1.2335 - val_binary_accuracy: 0.8900\n",
            "Epoch 4/5\n",
            "228/228 [==============================] - 11s 46ms/step - loss: 0.0065 - binary_accuracy: 0.9980 - val_loss: 1.2769 - val_binary_accuracy: 0.8800\n",
            "Epoch 5/5\n",
            "228/228 [==============================] - 11s 47ms/step - loss: 2.8210e-04 - binary_accuracy: 1.0000 - val_loss: 1.2897 - val_binary_accuracy: 0.8838\n"
          ],
          "name": "stdout"
        }
      ]
    },
    {
      "cell_type": "code",
      "metadata": {
        "colab": {
          "base_uri": "https://localhost:8080/",
          "height": 451
        },
        "id": "vFDJectyz5Uj",
        "outputId": "de625a39-123c-42c6-aa76-0e195764f5de"
      },
      "source": [
        "history_dict = hist.history\n",
        "print(history_dict.keys())\n",
        "\n",
        "acc = history_dict['binary_accuracy']\n",
        "val_acc = history_dict['val_binary_accuracy']\n",
        "loss = history_dict['loss']\n",
        "val_loss = history_dict['val_loss']\n",
        "\n",
        "epochs = range(1, len(acc) + 1)\n",
        "fig = plt.figure(figsize=(10, 6))\n",
        "fig.tight_layout()\n",
        "\n",
        "plt.subplot(2, 1, 1)\n",
        "# \"bo\" is for \"blue dot\"\n",
        "plt.plot(epochs, loss, 'r', label='Training loss')\n",
        "# b is for \"solid blue line\"\n",
        "plt.plot(epochs, val_loss, 'b', label='Validation loss')\n",
        "plt.title('Training and validation loss')\n",
        "# plt.xlabel('Epochs')\n",
        "plt.ylabel('Loss')\n",
        "plt.legend()\n",
        "\n",
        "plt.subplot(2, 1, 2)\n",
        "plt.plot(epochs, acc, 'r', label='Training acc')\n",
        "plt.plot(epochs, val_acc, 'b', label='Validation acc')\n",
        "plt.title('Training and validation accuracy')\n",
        "plt.xlabel('Epochs')\n",
        "plt.ylabel('Accuracy')\n",
        "plt.legend(loc='lower right')"
      ],
      "execution_count": 158,
      "outputs": [
        {
          "output_type": "stream",
          "text": [
            "dict_keys(['loss', 'binary_accuracy', 'val_loss', 'val_binary_accuracy'])\n"
          ],
          "name": "stdout"
        },
        {
          "output_type": "execute_result",
          "data": {
            "text/plain": [
              "<matplotlib.legend.Legend at 0x7fd0ecf5b110>"
            ]
          },
          "metadata": {
            "tags": []
          },
          "execution_count": 158
        },
        {
          "output_type": "display_data",
          "data": {
            "image/png": "[encoded data removed]",
            "text/plain": [
              "<Figure size 720x432 with 2 Axes>"
            ]
          },
          "metadata": {
            "tags": []
          }
        }
      ]
    },
    {
      "cell_type": "code",
      "metadata": {
        "colab": {
          "base_uri": "https://localhost:8080/"
        },
        "id": "FOJBd779z7AZ",
        "outputId": "ec99c36d-5cee-4d9c-eee9-60a262667c09"
      },
      "source": [
        "dataset_name = 'tweetdb'\n",
        "saved_model_path = './{}_bert'.format(dataset_name.replace('/', '_'))\n",
        "\n",
        "classifier_model.save(saved_model_path, include_optimizer=False)"
      ],
      "execution_count": 159,
      "outputs": [
        {
          "output_type": "stream",
          "text": [
            "WARNING:absl:Found untraced functions such as restored_function_body, restored_function_body, restored_function_body, restored_function_body, restored_function_body while saving (showing 5 of 310). These functions will not be directly callable after loading.\n",
            "WARNING:absl:Found untraced functions such as restored_function_body, restored_function_body, restored_function_body, restored_function_body, restored_function_body while saving (showing 5 of 310). These functions will not be directly callable after loading.\n"
          ],
          "name": "stderr"
        }
      ]
    },
    {
      "cell_type": "markdown",
      "metadata": {
        "id": "UewVCMNb4eMC"
      },
      "source": [
        "#  모델 테스트"
      ]
    },
    {
      "cell_type": "code",
      "metadata": {
        "id": "9M1hoLk64YBv"
      },
      "source": [
        "reloaded_model = tf.saved_model.load(saved_model_path)"
      ],
      "execution_count": 160,
      "outputs": []
    },
    {
      "cell_type": "code",
      "metadata": {
        "colab": {
          "base_uri": "https://localhost:8080/"
        },
        "id": "gcAgP5G34Fhq",
        "outputId": "b3948c28-a818-4037-cf3a-f62d28e8c74c"
      },
      "source": [
        "def print_my_examples(inputs, results):\n",
        "  result_for_printing = \\\n",
        "    [f'input: {inputs[i]:<30} : score: {results[i][0]:.6f}'\n",
        "                         for i in range(len(inputs))]\n",
        "  print(*result_for_printing, sep='\\n')\n",
        "  print()\n",
        "\n",
        "\n",
        "examples = [\n",
        "    'this is such an amazing movie!',  # this is the same sentence tried earlier\n",
        "    'The movie was great!',\n",
        "    'The movie was meh.',\n",
        "    'The movie was okish.',\n",
        "    'The movie was terrible...'\n",
        "]\n",
        "\n",
        "reloaded_results = tf.sigmoid(reloaded_model(tf.constant(examples)))\n",
        "original_results = tf.sigmoid(classifier_model(tf.constant(examples)))\n",
        "\n",
        "print('Results from the saved model:')\n",
        "print_my_examples(examples, reloaded_results)\n",
        "print('Results from the model in memory:')\n",
        "print_my_examples(examples, original_results)"
      ],
      "execution_count": 161,
      "outputs": [
        {
          "output_type": "stream",
          "text": [
            "Results from the saved model:\n",
            "input: this is such an amazing movie! : score: 0.550451\n",
            "input: The movie was great!           : score: 0.563808\n",
            "input: The movie was meh.             : score: 0.560254\n",
            "input: The movie was okish.           : score: 0.597390\n",
            "input: The movie was terrible...      : score: 0.592957\n",
            "\n",
            "Results from the model in memory:\n",
            "input: this is such an amazing movie! : score: 0.550451\n",
            "input: The movie was great!           : score: 0.563808\n",
            "input: The movie was meh.             : score: 0.560254\n",
            "input: The movie was okish.           : score: 0.597390\n",
            "input: The movie was terrible...      : score: 0.592957\n",
            "\n"
          ],
          "name": "stdout"
        }
      ]
    }
  ]
}